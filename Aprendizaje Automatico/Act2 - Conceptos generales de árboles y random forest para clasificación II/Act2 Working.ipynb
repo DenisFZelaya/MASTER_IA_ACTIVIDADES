{
 "cells": [
  {
   "cell_type": "markdown",
   "id": "17d12b48",
   "metadata": {},
   "source": [
    "# CLASIFICACION CON SVM Y NN"
   ]
  },
  {
   "cell_type": "markdown",
   "id": "9eca735b",
   "metadata": {},
   "source": [
    "### IMPORTACIÓN DE LIBRERIAS A UTILIZAR"
   ]
  },
  {
   "cell_type": "code",
   "execution_count": 2,
   "id": "56b5f827",
   "metadata": {},
   "outputs": [],
   "source": [
    "import numpy as np\n",
    "import pandas as pd\n",
    "\n",
    "import matplotlib.pyplot as plt\n",
    "import seaborn as sns\n",
    "\n",
    "from sklearn.preprocessing import StandardScaler\n",
    "from sklearn.model_selection import train_test_split, GridSearchCV\n",
    "\n",
    "from sklearn.svm import SVC\n",
    "from sklearn.neural_network import MLPClassifier\n",
    "\n",
    "from sklearn.metrics import accuracy_score, confusion_matrix, classification_report"
   ]
  },
  {
   "cell_type": "markdown",
   "id": "58cb2daa",
   "metadata": {},
   "source": [
    "### CARGA DEL DATASET"
   ]
  },
  {
   "cell_type": "code",
   "execution_count": 3,
   "id": "f5ebb5b4",
   "metadata": {},
   "outputs": [
    {
     "data": {
      "text/html": [
       "<div>\n",
       "<style scoped>\n",
       "    .dataframe tbody tr th:only-of-type {\n",
       "        vertical-align: middle;\n",
       "    }\n",
       "\n",
       "    .dataframe tbody tr th {\n",
       "        vertical-align: top;\n",
       "    }\n",
       "\n",
       "    .dataframe thead th {\n",
       "        text-align: right;\n",
       "    }\n",
       "</style>\n",
       "<table border=\"1\" class=\"dataframe\">\n",
       "  <thead>\n",
       "    <tr style=\"text-align: right;\">\n",
       "      <th></th>\n",
       "      <th>danceability</th>\n",
       "      <th>energy</th>\n",
       "      <th>key</th>\n",
       "      <th>loudness</th>\n",
       "      <th>mode</th>\n",
       "      <th>speechiness</th>\n",
       "      <th>acousticness</th>\n",
       "      <th>instrumentalness</th>\n",
       "      <th>liveness</th>\n",
       "      <th>valence</th>\n",
       "      <th>tempo</th>\n",
       "      <th>duration_ms</th>\n",
       "      <th>time_signature</th>\n",
       "      <th>liked</th>\n",
       "    </tr>\n",
       "  </thead>\n",
       "  <tbody>\n",
       "    <tr>\n",
       "      <th>0</th>\n",
       "      <td>0.803</td>\n",
       "      <td>0.6240</td>\n",
       "      <td>7</td>\n",
       "      <td>-6.764</td>\n",
       "      <td>0</td>\n",
       "      <td>0.0477</td>\n",
       "      <td>0.4510</td>\n",
       "      <td>0.000734</td>\n",
       "      <td>0.1000</td>\n",
       "      <td>0.6280</td>\n",
       "      <td>95.968</td>\n",
       "      <td>304524</td>\n",
       "      <td>4</td>\n",
       "      <td>0</td>\n",
       "    </tr>\n",
       "    <tr>\n",
       "      <th>1</th>\n",
       "      <td>0.762</td>\n",
       "      <td>0.7030</td>\n",
       "      <td>10</td>\n",
       "      <td>-7.951</td>\n",
       "      <td>0</td>\n",
       "      <td>0.3060</td>\n",
       "      <td>0.2060</td>\n",
       "      <td>0.000000</td>\n",
       "      <td>0.0912</td>\n",
       "      <td>0.5190</td>\n",
       "      <td>151.329</td>\n",
       "      <td>247178</td>\n",
       "      <td>4</td>\n",
       "      <td>1</td>\n",
       "    </tr>\n",
       "    <tr>\n",
       "      <th>2</th>\n",
       "      <td>0.261</td>\n",
       "      <td>0.0149</td>\n",
       "      <td>1</td>\n",
       "      <td>-27.528</td>\n",
       "      <td>1</td>\n",
       "      <td>0.0419</td>\n",
       "      <td>0.9920</td>\n",
       "      <td>0.897000</td>\n",
       "      <td>0.1020</td>\n",
       "      <td>0.0382</td>\n",
       "      <td>75.296</td>\n",
       "      <td>286987</td>\n",
       "      <td>4</td>\n",
       "      <td>0</td>\n",
       "    </tr>\n",
       "    <tr>\n",
       "      <th>3</th>\n",
       "      <td>0.722</td>\n",
       "      <td>0.7360</td>\n",
       "      <td>3</td>\n",
       "      <td>-6.994</td>\n",
       "      <td>0</td>\n",
       "      <td>0.0585</td>\n",
       "      <td>0.4310</td>\n",
       "      <td>0.000001</td>\n",
       "      <td>0.1230</td>\n",
       "      <td>0.5820</td>\n",
       "      <td>89.860</td>\n",
       "      <td>208920</td>\n",
       "      <td>4</td>\n",
       "      <td>1</td>\n",
       "    </tr>\n",
       "    <tr>\n",
       "      <th>4</th>\n",
       "      <td>0.787</td>\n",
       "      <td>0.5720</td>\n",
       "      <td>1</td>\n",
       "      <td>-7.516</td>\n",
       "      <td>1</td>\n",
       "      <td>0.2220</td>\n",
       "      <td>0.1450</td>\n",
       "      <td>0.000000</td>\n",
       "      <td>0.0753</td>\n",
       "      <td>0.6470</td>\n",
       "      <td>155.117</td>\n",
       "      <td>179413</td>\n",
       "      <td>4</td>\n",
       "      <td>1</td>\n",
       "    </tr>\n",
       "    <tr>\n",
       "      <th>...</th>\n",
       "      <td>...</td>\n",
       "      <td>...</td>\n",
       "      <td>...</td>\n",
       "      <td>...</td>\n",
       "      <td>...</td>\n",
       "      <td>...</td>\n",
       "      <td>...</td>\n",
       "      <td>...</td>\n",
       "      <td>...</td>\n",
       "      <td>...</td>\n",
       "      <td>...</td>\n",
       "      <td>...</td>\n",
       "      <td>...</td>\n",
       "      <td>...</td>\n",
       "    </tr>\n",
       "    <tr>\n",
       "      <th>190</th>\n",
       "      <td>0.166</td>\n",
       "      <td>0.0551</td>\n",
       "      <td>9</td>\n",
       "      <td>-19.494</td>\n",
       "      <td>0</td>\n",
       "      <td>0.0520</td>\n",
       "      <td>0.9760</td>\n",
       "      <td>0.635000</td>\n",
       "      <td>0.1190</td>\n",
       "      <td>0.1430</td>\n",
       "      <td>176.616</td>\n",
       "      <td>206520</td>\n",
       "      <td>3</td>\n",
       "      <td>0</td>\n",
       "    </tr>\n",
       "    <tr>\n",
       "      <th>191</th>\n",
       "      <td>0.862</td>\n",
       "      <td>0.6240</td>\n",
       "      <td>3</td>\n",
       "      <td>-11.630</td>\n",
       "      <td>1</td>\n",
       "      <td>0.0565</td>\n",
       "      <td>0.0192</td>\n",
       "      <td>0.000153</td>\n",
       "      <td>0.0465</td>\n",
       "      <td>0.8820</td>\n",
       "      <td>124.896</td>\n",
       "      <td>254240</td>\n",
       "      <td>4</td>\n",
       "      <td>0</td>\n",
       "    </tr>\n",
       "    <tr>\n",
       "      <th>192</th>\n",
       "      <td>0.499</td>\n",
       "      <td>0.3510</td>\n",
       "      <td>9</td>\n",
       "      <td>-11.509</td>\n",
       "      <td>0</td>\n",
       "      <td>0.0448</td>\n",
       "      <td>0.9510</td>\n",
       "      <td>0.000099</td>\n",
       "      <td>0.1180</td>\n",
       "      <td>0.6160</td>\n",
       "      <td>90.664</td>\n",
       "      <td>235947</td>\n",
       "      <td>4</td>\n",
       "      <td>0</td>\n",
       "    </tr>\n",
       "    <tr>\n",
       "      <th>193</th>\n",
       "      <td>0.574</td>\n",
       "      <td>0.7290</td>\n",
       "      <td>10</td>\n",
       "      <td>-5.838</td>\n",
       "      <td>0</td>\n",
       "      <td>0.0965</td>\n",
       "      <td>0.0406</td>\n",
       "      <td>0.000004</td>\n",
       "      <td>0.1940</td>\n",
       "      <td>0.4130</td>\n",
       "      <td>110.547</td>\n",
       "      <td>190239</td>\n",
       "      <td>5</td>\n",
       "      <td>1</td>\n",
       "    </tr>\n",
       "    <tr>\n",
       "      <th>194</th>\n",
       "      <td>0.747</td>\n",
       "      <td>0.6660</td>\n",
       "      <td>11</td>\n",
       "      <td>-7.845</td>\n",
       "      <td>1</td>\n",
       "      <td>0.1970</td>\n",
       "      <td>0.1300</td>\n",
       "      <td>0.000000</td>\n",
       "      <td>0.3600</td>\n",
       "      <td>0.5310</td>\n",
       "      <td>77.507</td>\n",
       "      <td>177213</td>\n",
       "      <td>4</td>\n",
       "      <td>1</td>\n",
       "    </tr>\n",
       "  </tbody>\n",
       "</table>\n",
       "<p>195 rows × 14 columns</p>\n",
       "</div>"
      ],
      "text/plain": [
       "     danceability  energy  key  loudness  mode  speechiness  acousticness  \\\n",
       "0           0.803  0.6240    7    -6.764     0       0.0477        0.4510   \n",
       "1           0.762  0.7030   10    -7.951     0       0.3060        0.2060   \n",
       "2           0.261  0.0149    1   -27.528     1       0.0419        0.9920   \n",
       "3           0.722  0.7360    3    -6.994     0       0.0585        0.4310   \n",
       "4           0.787  0.5720    1    -7.516     1       0.2220        0.1450   \n",
       "..            ...     ...  ...       ...   ...          ...           ...   \n",
       "190         0.166  0.0551    9   -19.494     0       0.0520        0.9760   \n",
       "191         0.862  0.6240    3   -11.630     1       0.0565        0.0192   \n",
       "192         0.499  0.3510    9   -11.509     0       0.0448        0.9510   \n",
       "193         0.574  0.7290   10    -5.838     0       0.0965        0.0406   \n",
       "194         0.747  0.6660   11    -7.845     1       0.1970        0.1300   \n",
       "\n",
       "     instrumentalness  liveness  valence    tempo  duration_ms  \\\n",
       "0            0.000734    0.1000   0.6280   95.968       304524   \n",
       "1            0.000000    0.0912   0.5190  151.329       247178   \n",
       "2            0.897000    0.1020   0.0382   75.296       286987   \n",
       "3            0.000001    0.1230   0.5820   89.860       208920   \n",
       "4            0.000000    0.0753   0.6470  155.117       179413   \n",
       "..                ...       ...      ...      ...          ...   \n",
       "190          0.635000    0.1190   0.1430  176.616       206520   \n",
       "191          0.000153    0.0465   0.8820  124.896       254240   \n",
       "192          0.000099    0.1180   0.6160   90.664       235947   \n",
       "193          0.000004    0.1940   0.4130  110.547       190239   \n",
       "194          0.000000    0.3600   0.5310   77.507       177213   \n",
       "\n",
       "     time_signature  liked  \n",
       "0                 4      0  \n",
       "1                 4      1  \n",
       "2                 4      0  \n",
       "3                 4      1  \n",
       "4                 4      1  \n",
       "..              ...    ...  \n",
       "190               3      0  \n",
       "191               4      0  \n",
       "192               4      0  \n",
       "193               5      1  \n",
       "194               4      1  \n",
       "\n",
       "[195 rows x 14 columns]"
      ]
     },
     "execution_count": 3,
     "metadata": {},
     "output_type": "execute_result"
    }
   ],
   "source": [
    "data = pd.read_csv('data.csv')\n",
    "data"
   ]
  },
  {
   "cell_type": "code",
   "execution_count": 4,
   "id": "5da389fe",
   "metadata": {},
   "outputs": [
    {
     "data": {
      "text/plain": [
       "(195, 14)"
      ]
     },
     "execution_count": 4,
     "metadata": {},
     "output_type": "execute_result"
    }
   ],
   "source": [
    "#Tamaño del dataset\n",
    "data.shape"
   ]
  },
  {
   "cell_type": "code",
   "execution_count": 5,
   "id": "8d5da9e6",
   "metadata": {},
   "outputs": [
    {
     "name": "stdout",
     "output_type": "stream",
     "text": [
      "<class 'pandas.core.frame.DataFrame'>\n",
      "RangeIndex: 195 entries, 0 to 194\n",
      "Data columns (total 14 columns):\n",
      " #   Column            Non-Null Count  Dtype  \n",
      "---  ------            --------------  -----  \n",
      " 0   danceability      195 non-null    float64\n",
      " 1   energy            195 non-null    float64\n",
      " 2   key               195 non-null    int64  \n",
      " 3   loudness          195 non-null    float64\n",
      " 4   mode              195 non-null    int64  \n",
      " 5   speechiness       195 non-null    float64\n",
      " 6   acousticness      195 non-null    float64\n",
      " 7   instrumentalness  195 non-null    float64\n",
      " 8   liveness          195 non-null    float64\n",
      " 9   valence           195 non-null    float64\n",
      " 10  tempo             195 non-null    float64\n",
      " 11  duration_ms       195 non-null    int64  \n",
      " 12  time_signature    195 non-null    int64  \n",
      " 13  liked             195 non-null    int64  \n",
      "dtypes: float64(9), int64(5)\n",
      "memory usage: 21.5 KB\n"
     ]
    }
   ],
   "source": [
    "#Información de las variables\n",
    "data.info()"
   ]
  },
  {
   "cell_type": "markdown",
   "id": "51ac3b3a",
   "metadata": {},
   "source": [
    "### 1. ANÁLISIS DESCRIPTIVO DE DATOS"
   ]
  },
  {
   "cell_type": "code",
   "execution_count": 6,
   "id": "7df8a7b0",
   "metadata": {
    "scrolled": false
   },
   "outputs": [
    {
     "data": {
      "text/html": [
       "<div>\n",
       "<style scoped>\n",
       "    .dataframe tbody tr th:only-of-type {\n",
       "        vertical-align: middle;\n",
       "    }\n",
       "\n",
       "    .dataframe tbody tr th {\n",
       "        vertical-align: top;\n",
       "    }\n",
       "\n",
       "    .dataframe thead th {\n",
       "        text-align: right;\n",
       "    }\n",
       "</style>\n",
       "<table border=\"1\" class=\"dataframe\">\n",
       "  <thead>\n",
       "    <tr style=\"text-align: right;\">\n",
       "      <th></th>\n",
       "      <th>danceability</th>\n",
       "      <th>energy</th>\n",
       "      <th>key</th>\n",
       "      <th>loudness</th>\n",
       "      <th>mode</th>\n",
       "      <th>speechiness</th>\n",
       "      <th>acousticness</th>\n",
       "      <th>instrumentalness</th>\n",
       "      <th>liveness</th>\n",
       "      <th>valence</th>\n",
       "      <th>tempo</th>\n",
       "      <th>duration_ms</th>\n",
       "      <th>time_signature</th>\n",
       "      <th>liked</th>\n",
       "    </tr>\n",
       "  </thead>\n",
       "  <tbody>\n",
       "    <tr>\n",
       "      <th>count</th>\n",
       "      <td>195.000000</td>\n",
       "      <td>195.000000</td>\n",
       "      <td>195.000000</td>\n",
       "      <td>195.000000</td>\n",
       "      <td>195.000000</td>\n",
       "      <td>195.000000</td>\n",
       "      <td>195.000000</td>\n",
       "      <td>195.000000</td>\n",
       "      <td>195.000000</td>\n",
       "      <td>195.000000</td>\n",
       "      <td>195.000000</td>\n",
       "      <td>195.000000</td>\n",
       "      <td>195.000000</td>\n",
       "      <td>195.000000</td>\n",
       "    </tr>\n",
       "    <tr>\n",
       "      <th>mean</th>\n",
       "      <td>0.636656</td>\n",
       "      <td>0.638431</td>\n",
       "      <td>5.497436</td>\n",
       "      <td>-9.481631</td>\n",
       "      <td>0.538462</td>\n",
       "      <td>0.148957</td>\n",
       "      <td>0.319093</td>\n",
       "      <td>0.192337</td>\n",
       "      <td>0.148455</td>\n",
       "      <td>0.493632</td>\n",
       "      <td>121.086174</td>\n",
       "      <td>213408.933333</td>\n",
       "      <td>3.912821</td>\n",
       "      <td>0.512821</td>\n",
       "    </tr>\n",
       "    <tr>\n",
       "      <th>std</th>\n",
       "      <td>0.216614</td>\n",
       "      <td>0.260096</td>\n",
       "      <td>3.415209</td>\n",
       "      <td>6.525086</td>\n",
       "      <td>0.499802</td>\n",
       "      <td>0.120414</td>\n",
       "      <td>0.320782</td>\n",
       "      <td>0.346226</td>\n",
       "      <td>0.105975</td>\n",
       "      <td>0.267695</td>\n",
       "      <td>28.084829</td>\n",
       "      <td>72152.392864</td>\n",
       "      <td>0.451332</td>\n",
       "      <td>0.501122</td>\n",
       "    </tr>\n",
       "    <tr>\n",
       "      <th>min</th>\n",
       "      <td>0.130000</td>\n",
       "      <td>0.002400</td>\n",
       "      <td>0.000000</td>\n",
       "      <td>-42.261000</td>\n",
       "      <td>0.000000</td>\n",
       "      <td>0.027800</td>\n",
       "      <td>0.000003</td>\n",
       "      <td>0.000000</td>\n",
       "      <td>0.033100</td>\n",
       "      <td>0.035300</td>\n",
       "      <td>60.171000</td>\n",
       "      <td>77203.000000</td>\n",
       "      <td>1.000000</td>\n",
       "      <td>0.000000</td>\n",
       "    </tr>\n",
       "    <tr>\n",
       "      <th>25%</th>\n",
       "      <td>0.462500</td>\n",
       "      <td>0.533500</td>\n",
       "      <td>2.000000</td>\n",
       "      <td>-9.962000</td>\n",
       "      <td>0.000000</td>\n",
       "      <td>0.056800</td>\n",
       "      <td>0.042200</td>\n",
       "      <td>0.000000</td>\n",
       "      <td>0.084000</td>\n",
       "      <td>0.269000</td>\n",
       "      <td>100.242000</td>\n",
       "      <td>178300.500000</td>\n",
       "      <td>4.000000</td>\n",
       "      <td>0.000000</td>\n",
       "    </tr>\n",
       "    <tr>\n",
       "      <th>50%</th>\n",
       "      <td>0.705000</td>\n",
       "      <td>0.659000</td>\n",
       "      <td>6.000000</td>\n",
       "      <td>-7.766000</td>\n",
       "      <td>1.000000</td>\n",
       "      <td>0.096200</td>\n",
       "      <td>0.213000</td>\n",
       "      <td>0.000008</td>\n",
       "      <td>0.105000</td>\n",
       "      <td>0.525000</td>\n",
       "      <td>124.896000</td>\n",
       "      <td>204000.000000</td>\n",
       "      <td>4.000000</td>\n",
       "      <td>1.000000</td>\n",
       "    </tr>\n",
       "    <tr>\n",
       "      <th>75%</th>\n",
       "      <td>0.799000</td>\n",
       "      <td>0.837500</td>\n",
       "      <td>8.000000</td>\n",
       "      <td>-5.829000</td>\n",
       "      <td>1.000000</td>\n",
       "      <td>0.230500</td>\n",
       "      <td>0.504000</td>\n",
       "      <td>0.097500</td>\n",
       "      <td>0.177000</td>\n",
       "      <td>0.717500</td>\n",
       "      <td>142.460500</td>\n",
       "      <td>242373.500000</td>\n",
       "      <td>4.000000</td>\n",
       "      <td>1.000000</td>\n",
       "    </tr>\n",
       "    <tr>\n",
       "      <th>max</th>\n",
       "      <td>0.946000</td>\n",
       "      <td>0.996000</td>\n",
       "      <td>11.000000</td>\n",
       "      <td>-2.336000</td>\n",
       "      <td>1.000000</td>\n",
       "      <td>0.540000</td>\n",
       "      <td>0.995000</td>\n",
       "      <td>0.969000</td>\n",
       "      <td>0.633000</td>\n",
       "      <td>0.980000</td>\n",
       "      <td>180.036000</td>\n",
       "      <td>655213.000000</td>\n",
       "      <td>5.000000</td>\n",
       "      <td>1.000000</td>\n",
       "    </tr>\n",
       "  </tbody>\n",
       "</table>\n",
       "</div>"
      ],
      "text/plain": [
       "       danceability      energy         key    loudness        mode  \\\n",
       "count    195.000000  195.000000  195.000000  195.000000  195.000000   \n",
       "mean       0.636656    0.638431    5.497436   -9.481631    0.538462   \n",
       "std        0.216614    0.260096    3.415209    6.525086    0.499802   \n",
       "min        0.130000    0.002400    0.000000  -42.261000    0.000000   \n",
       "25%        0.462500    0.533500    2.000000   -9.962000    0.000000   \n",
       "50%        0.705000    0.659000    6.000000   -7.766000    1.000000   \n",
       "75%        0.799000    0.837500    8.000000   -5.829000    1.000000   \n",
       "max        0.946000    0.996000   11.000000   -2.336000    1.000000   \n",
       "\n",
       "       speechiness  acousticness  instrumentalness    liveness     valence  \\\n",
       "count   195.000000    195.000000        195.000000  195.000000  195.000000   \n",
       "mean      0.148957      0.319093          0.192337    0.148455    0.493632   \n",
       "std       0.120414      0.320782          0.346226    0.105975    0.267695   \n",
       "min       0.027800      0.000003          0.000000    0.033100    0.035300   \n",
       "25%       0.056800      0.042200          0.000000    0.084000    0.269000   \n",
       "50%       0.096200      0.213000          0.000008    0.105000    0.525000   \n",
       "75%       0.230500      0.504000          0.097500    0.177000    0.717500   \n",
       "max       0.540000      0.995000          0.969000    0.633000    0.980000   \n",
       "\n",
       "            tempo    duration_ms  time_signature       liked  \n",
       "count  195.000000     195.000000      195.000000  195.000000  \n",
       "mean   121.086174  213408.933333        3.912821    0.512821  \n",
       "std     28.084829   72152.392864        0.451332    0.501122  \n",
       "min     60.171000   77203.000000        1.000000    0.000000  \n",
       "25%    100.242000  178300.500000        4.000000    0.000000  \n",
       "50%    124.896000  204000.000000        4.000000    1.000000  \n",
       "75%    142.460500  242373.500000        4.000000    1.000000  \n",
       "max    180.036000  655213.000000        5.000000    1.000000  "
      ]
     },
     "execution_count": 6,
     "metadata": {},
     "output_type": "execute_result"
    }
   ],
   "source": [
    "#Resumen estadístico de las variables\n",
    "data.describe()"
   ]
  },
  {
   "cell_type": "markdown",
   "id": "29028509",
   "metadata": {},
   "source": [
    "## **1.1. Escriba el código que permita crear gráficos de dispersión de todas las variables:**"
   ]
  },
  {
   "cell_type": "code",
   "execution_count": 7,
   "id": "5dfcbefd",
   "metadata": {},
   "outputs": [],
   "source": [
    "# RESPUESTA 3\n",
    "# plt.figure(figsize=(25,25))\n",
    "#  sns.pairplot(data, hue='liked') # Para mapear diferentes colores"
   ]
  },
  {
   "cell_type": "markdown",
   "id": "7439e1c1",
   "metadata": {},
   "source": [
    "## **1.2. Escriba el código que permita crear la matriz de correlación de todas las variables:**"
   ]
  },
  {
   "cell_type": "code",
   "execution_count": 8,
   "id": "e1ffcd08",
   "metadata": {},
   "outputs": [],
   "source": [
    "corr = data.corr()"
   ]
  },
  {
   "cell_type": "markdown",
   "id": "aa184300",
   "metadata": {},
   "source": [
    "### 2. PREPROCESAMIENTO DE DATOS"
   ]
  },
  {
   "cell_type": "code",
   "execution_count": 9,
   "id": "869a65f2",
   "metadata": {},
   "outputs": [],
   "source": [
    "#Crear una copia del dataset para modificaciones\n",
    "data2 = data.copy()"
   ]
  },
  {
   "cell_type": "code",
   "execution_count": 10,
   "id": "842f4de4",
   "metadata": {},
   "outputs": [
    {
     "name": "stdout",
     "output_type": "stream",
     "text": [
      "(195, 14)\n",
      "(195, 14)\n"
     ]
    }
   ],
   "source": [
    "#Verificar tamaño\n",
    "print(data.shape)\n",
    "print(data2.shape)"
   ]
  },
  {
   "cell_type": "markdown",
   "id": "21937a56",
   "metadata": {},
   "source": [
    "## **2.1. Escriba el código que permita reescalar todos los atributos del dataset utilizando la función del StandardScaler:**"
   ]
  },
  {
   "cell_type": "code",
   "execution_count": 11,
   "id": "fad4fc87",
   "metadata": {},
   "outputs": [],
   "source": [
    "sc = StandardScaler()\n",
    "data2[['key', 'loudness', 'mode', 'speechiness', 'acousticness', 'instrumentalness', 'liveness', 'valence', 'tempo', 'duration_ms', 'time_signature', 'energy', 'danceability']] = sc.fit_transform(data2[['key', 'loudness', 'mode', 'speechiness', 'acousticness', 'instrumentalness', 'liveness', 'valence', 'tempo', 'duration_ms', 'time_signature', 'energy', 'danceability']])"
   ]
  },
  {
   "cell_type": "code",
   "execution_count": 12,
   "id": "3c319c93",
   "metadata": {},
   "outputs": [
    {
     "data": {
      "text/html": [
       "<div>\n",
       "<style scoped>\n",
       "    .dataframe tbody tr th:only-of-type {\n",
       "        vertical-align: middle;\n",
       "    }\n",
       "\n",
       "    .dataframe tbody tr th {\n",
       "        vertical-align: top;\n",
       "    }\n",
       "\n",
       "    .dataframe thead th {\n",
       "        text-align: right;\n",
       "    }\n",
       "</style>\n",
       "<table border=\"1\" class=\"dataframe\">\n",
       "  <thead>\n",
       "    <tr style=\"text-align: right;\">\n",
       "      <th></th>\n",
       "      <th>danceability</th>\n",
       "      <th>energy</th>\n",
       "      <th>key</th>\n",
       "      <th>loudness</th>\n",
       "      <th>mode</th>\n",
       "      <th>speechiness</th>\n",
       "      <th>acousticness</th>\n",
       "      <th>instrumentalness</th>\n",
       "      <th>liveness</th>\n",
       "      <th>valence</th>\n",
       "      <th>tempo</th>\n",
       "      <th>duration_ms</th>\n",
       "      <th>time_signature</th>\n",
       "      <th>liked</th>\n",
       "    </tr>\n",
       "  </thead>\n",
       "  <tbody>\n",
       "    <tr>\n",
       "      <th>count</th>\n",
       "      <td>1.950000e+02</td>\n",
       "      <td>1.950000e+02</td>\n",
       "      <td>1.950000e+02</td>\n",
       "      <td>1.950000e+02</td>\n",
       "      <td>1.950000e+02</td>\n",
       "      <td>1.950000e+02</td>\n",
       "      <td>1.950000e+02</td>\n",
       "      <td>1.950000e+02</td>\n",
       "      <td>1.950000e+02</td>\n",
       "      <td>1.950000e+02</td>\n",
       "      <td>1.950000e+02</td>\n",
       "      <td>1.950000e+02</td>\n",
       "      <td>1.950000e+02</td>\n",
       "      <td>195.000000</td>\n",
       "    </tr>\n",
       "    <tr>\n",
       "      <th>mean</th>\n",
       "      <td>-1.548619e-16</td>\n",
       "      <td>4.554761e-17</td>\n",
       "      <td>-2.732857e-17</td>\n",
       "      <td>2.095190e-16</td>\n",
       "      <td>2.505119e-17</td>\n",
       "      <td>-1.821904e-17</td>\n",
       "      <td>-1.821904e-17</td>\n",
       "      <td>6.832142e-17</td>\n",
       "      <td>1.275333e-16</td>\n",
       "      <td>2.231833e-16</td>\n",
       "      <td>-5.693451e-17</td>\n",
       "      <td>1.730809e-16</td>\n",
       "      <td>3.245267e-16</td>\n",
       "      <td>0.512821</td>\n",
       "    </tr>\n",
       "    <tr>\n",
       "      <th>std</th>\n",
       "      <td>1.002574e+00</td>\n",
       "      <td>1.002574e+00</td>\n",
       "      <td>1.002574e+00</td>\n",
       "      <td>1.002574e+00</td>\n",
       "      <td>1.002574e+00</td>\n",
       "      <td>1.002574e+00</td>\n",
       "      <td>1.002574e+00</td>\n",
       "      <td>1.002574e+00</td>\n",
       "      <td>1.002574e+00</td>\n",
       "      <td>1.002574e+00</td>\n",
       "      <td>1.002574e+00</td>\n",
       "      <td>1.002574e+00</td>\n",
       "      <td>1.002574e+00</td>\n",
       "      <td>0.501122</td>\n",
       "    </tr>\n",
       "    <tr>\n",
       "      <th>min</th>\n",
       "      <td>-2.345004e+00</td>\n",
       "      <td>-2.451668e+00</td>\n",
       "      <td>-1.613836e+00</td>\n",
       "      <td>-5.036523e+00</td>\n",
       "      <td>-1.080123e+00</td>\n",
       "      <td>-1.008767e+00</td>\n",
       "      <td>-9.972870e-01</td>\n",
       "      <td>-5.569551e-01</td>\n",
       "      <td>-1.091322e+00</td>\n",
       "      <td>-1.716549e+00</td>\n",
       "      <td>-2.174554e+00</td>\n",
       "      <td>-1.892613e+00</td>\n",
       "      <td>-6.470440e+00</td>\n",
       "      <td>0.000000</td>\n",
       "    </tr>\n",
       "    <tr>\n",
       "      <th>25%</th>\n",
       "      <td>-8.060639e-01</td>\n",
       "      <td>-4.044724e-01</td>\n",
       "      <td>-1.026713e+00</td>\n",
       "      <td>-7.380833e-02</td>\n",
       "      <td>-1.080123e+00</td>\n",
       "      <td>-7.673104e-01</td>\n",
       "      <td>-8.654043e-01</td>\n",
       "      <td>-5.569551e-01</td>\n",
       "      <td>-6.097813e-01</td>\n",
       "      <td>-8.412931e-01</td>\n",
       "      <td>-7.440967e-01</td>\n",
       "      <td>-4.878397e-01</td>\n",
       "      <td>1.936575e-01</td>\n",
       "      <td>0.000000</td>\n",
       "    </tr>\n",
       "    <tr>\n",
       "      <th>50%</th>\n",
       "      <td>3.163208e-01</td>\n",
       "      <td>7.928408e-02</td>\n",
       "      <td>1.475335e-01</td>\n",
       "      <td>2.636052e-01</td>\n",
       "      <td>9.258201e-01</td>\n",
       "      <td>-4.392628e-01</td>\n",
       "      <td>-3.315843e-01</td>\n",
       "      <td>-5.569331e-01</td>\n",
       "      <td>-4.111104e-01</td>\n",
       "      <td>1.174805e-01</td>\n",
       "      <td>1.360034e-01</td>\n",
       "      <td>-1.307393e-01</td>\n",
       "      <td>1.936575e-01</td>\n",
       "      <td>1.000000</td>\n",
       "    </tr>\n",
       "    <tr>\n",
       "      <th>75%</th>\n",
       "      <td>7.513895e-01</td>\n",
       "      <td>7.673361e-01</td>\n",
       "      <td>7.346565e-01</td>\n",
       "      <td>5.612237e-01</td>\n",
       "      <td>9.258201e-01</td>\n",
       "      <td>6.789301e-01</td>\n",
       "      <td>5.779098e-01</td>\n",
       "      <td>-2.746223e-01</td>\n",
       "      <td>2.700468e-01</td>\n",
       "      <td>8.384333e-01</td>\n",
       "      <td>7.630220e-01</td>\n",
       "      <td>4.024693e-01</td>\n",
       "      <td>1.936575e-01</td>\n",
       "      <td>1.000000</td>\n",
       "    </tr>\n",
       "    <tr>\n",
       "      <th>max</th>\n",
       "      <td>1.431763e+00</td>\n",
       "      <td>1.378296e+00</td>\n",
       "      <td>1.615341e+00</td>\n",
       "      <td>1.097920e+00</td>\n",
       "      <td>9.258201e-01</td>\n",
       "      <td>3.255853e+00</td>\n",
       "      <td>2.112486e+00</td>\n",
       "      <td>2.248999e+00</td>\n",
       "      <td>4.584043e+00</td>\n",
       "      <td>1.821551e+00</td>\n",
       "      <td>2.104395e+00</td>\n",
       "      <td>6.138969e+00</td>\n",
       "      <td>2.415023e+00</td>\n",
       "      <td>1.000000</td>\n",
       "    </tr>\n",
       "  </tbody>\n",
       "</table>\n",
       "</div>"
      ],
      "text/plain": [
       "       danceability        energy           key      loudness          mode  \\\n",
       "count  1.950000e+02  1.950000e+02  1.950000e+02  1.950000e+02  1.950000e+02   \n",
       "mean  -1.548619e-16  4.554761e-17 -2.732857e-17  2.095190e-16  2.505119e-17   \n",
       "std    1.002574e+00  1.002574e+00  1.002574e+00  1.002574e+00  1.002574e+00   \n",
       "min   -2.345004e+00 -2.451668e+00 -1.613836e+00 -5.036523e+00 -1.080123e+00   \n",
       "25%   -8.060639e-01 -4.044724e-01 -1.026713e+00 -7.380833e-02 -1.080123e+00   \n",
       "50%    3.163208e-01  7.928408e-02  1.475335e-01  2.636052e-01  9.258201e-01   \n",
       "75%    7.513895e-01  7.673361e-01  7.346565e-01  5.612237e-01  9.258201e-01   \n",
       "max    1.431763e+00  1.378296e+00  1.615341e+00  1.097920e+00  9.258201e-01   \n",
       "\n",
       "        speechiness  acousticness  instrumentalness      liveness  \\\n",
       "count  1.950000e+02  1.950000e+02      1.950000e+02  1.950000e+02   \n",
       "mean  -1.821904e-17 -1.821904e-17      6.832142e-17  1.275333e-16   \n",
       "std    1.002574e+00  1.002574e+00      1.002574e+00  1.002574e+00   \n",
       "min   -1.008767e+00 -9.972870e-01     -5.569551e-01 -1.091322e+00   \n",
       "25%   -7.673104e-01 -8.654043e-01     -5.569551e-01 -6.097813e-01   \n",
       "50%   -4.392628e-01 -3.315843e-01     -5.569331e-01 -4.111104e-01   \n",
       "75%    6.789301e-01  5.779098e-01     -2.746223e-01  2.700468e-01   \n",
       "max    3.255853e+00  2.112486e+00      2.248999e+00  4.584043e+00   \n",
       "\n",
       "            valence         tempo   duration_ms  time_signature       liked  \n",
       "count  1.950000e+02  1.950000e+02  1.950000e+02    1.950000e+02  195.000000  \n",
       "mean   2.231833e-16 -5.693451e-17  1.730809e-16    3.245267e-16    0.512821  \n",
       "std    1.002574e+00  1.002574e+00  1.002574e+00    1.002574e+00    0.501122  \n",
       "min   -1.716549e+00 -2.174554e+00 -1.892613e+00   -6.470440e+00    0.000000  \n",
       "25%   -8.412931e-01 -7.440967e-01 -4.878397e-01    1.936575e-01    0.000000  \n",
       "50%    1.174805e-01  1.360034e-01 -1.307393e-01    1.936575e-01    1.000000  \n",
       "75%    8.384333e-01  7.630220e-01  4.024693e-01    1.936575e-01    1.000000  \n",
       "max    1.821551e+00  2.104395e+00  6.138969e+00    2.415023e+00    1.000000  "
      ]
     },
     "execution_count": 12,
     "metadata": {},
     "output_type": "execute_result"
    }
   ],
   "source": [
    "data2.describe()"
   ]
  },
  {
   "cell_type": "markdown",
   "id": "5aa0a3c7",
   "metadata": {},
   "source": [
    "## 3. Aplicación de SVM sobre los datos\n"
   ]
  },
  {
   "cell_type": "code",
   "execution_count": 13,
   "id": "c168bc2b",
   "metadata": {},
   "outputs": [
    {
     "name": "stdout",
     "output_type": "stream",
     "text": [
      "count    195.000000\n",
      "mean       0.512821\n",
      "std        0.501122\n",
      "min        0.000000\n",
      "25%        0.000000\n",
      "50%        1.000000\n",
      "75%        1.000000\n",
      "max        1.000000\n",
      "Name: liked, dtype: float64\n"
     ]
    }
   ],
   "source": [
    "# Separación de los datos en train y test\n",
    "# X no incluye la columna Liked\n",
    "X = data2.drop(columns = 'liked') # Contiene las variables independientes\n",
    "y = data2['liked'] # Variable Dependiente\n",
    "print(y.describe())\n",
    "\n",
    "X_train, X_test, y_train, y_test = train_test_split(\n",
    "                                        X,\n",
    "                                        y,\n",
    "                                        train_size   = 0.8,\n",
    "                                        random_state = 123,\n",
    "                                        shuffle      = True\n",
    "                                    )"
   ]
  },
  {
   "cell_type": "markdown",
   "id": "9ac11f6a",
   "metadata": {},
   "source": [
    "## **3.1. Escriba el código que permita crear un modelo utilizando SVM con kernel lineal, el valor de C =1 y la semilla aleatoria es de 1234:**"
   ]
  },
  {
   "cell_type": "code",
   "execution_count": 14,
   "id": "60965dd6",
   "metadata": {},
   "outputs": [],
   "source": [
    "# SVC = Support Vector Classifier\n",
    "# C = 1 Parametro de regularizacion\n",
    "# Kernel Lineal = Kernel lineal son adecuados cuando los datos son lineal mente separables\n",
    "# random_state: Establece una semilla aleatoria para garantizar la reproducibiildad de los resultados\n",
    "# modelosSVM = fit ajusta el modelo de entraminento\n",
    "# El modelo aprende a distinguir entre diferentes clases de acuerdo con las caracteristicas\n",
    "# proporcionadas en X_train"
   ]
  },
  {
   "cell_type": "code",
   "execution_count": 15,
   "id": "8a2022d5",
   "metadata": {},
   "outputs": [
    {
     "data": {
      "text/html": [
       "<style>#sk-container-id-1 {color: black;}#sk-container-id-1 pre{padding: 0;}#sk-container-id-1 div.sk-toggleable {background-color: white;}#sk-container-id-1 label.sk-toggleable__label {cursor: pointer;display: block;width: 100%;margin-bottom: 0;padding: 0.3em;box-sizing: border-box;text-align: center;}#sk-container-id-1 label.sk-toggleable__label-arrow:before {content: \"▸\";float: left;margin-right: 0.25em;color: #696969;}#sk-container-id-1 label.sk-toggleable__label-arrow:hover:before {color: black;}#sk-container-id-1 div.sk-estimator:hover label.sk-toggleable__label-arrow:before {color: black;}#sk-container-id-1 div.sk-toggleable__content {max-height: 0;max-width: 0;overflow: hidden;text-align: left;background-color: #f0f8ff;}#sk-container-id-1 div.sk-toggleable__content pre {margin: 0.2em;color: black;border-radius: 0.25em;background-color: #f0f8ff;}#sk-container-id-1 input.sk-toggleable__control:checked~div.sk-toggleable__content {max-height: 200px;max-width: 100%;overflow: auto;}#sk-container-id-1 input.sk-toggleable__control:checked~label.sk-toggleable__label-arrow:before {content: \"▾\";}#sk-container-id-1 div.sk-estimator input.sk-toggleable__control:checked~label.sk-toggleable__label {background-color: #d4ebff;}#sk-container-id-1 div.sk-label input.sk-toggleable__control:checked~label.sk-toggleable__label {background-color: #d4ebff;}#sk-container-id-1 input.sk-hidden--visually {border: 0;clip: rect(1px 1px 1px 1px);clip: rect(1px, 1px, 1px, 1px);height: 1px;margin: -1px;overflow: hidden;padding: 0;position: absolute;width: 1px;}#sk-container-id-1 div.sk-estimator {font-family: monospace;background-color: #f0f8ff;border: 1px dotted black;border-radius: 0.25em;box-sizing: border-box;margin-bottom: 0.5em;}#sk-container-id-1 div.sk-estimator:hover {background-color: #d4ebff;}#sk-container-id-1 div.sk-parallel-item::after {content: \"\";width: 100%;border-bottom: 1px solid gray;flex-grow: 1;}#sk-container-id-1 div.sk-label:hover label.sk-toggleable__label {background-color: #d4ebff;}#sk-container-id-1 div.sk-serial::before {content: \"\";position: absolute;border-left: 1px solid gray;box-sizing: border-box;top: 0;bottom: 0;left: 50%;z-index: 0;}#sk-container-id-1 div.sk-serial {display: flex;flex-direction: column;align-items: center;background-color: white;padding-right: 0.2em;padding-left: 0.2em;position: relative;}#sk-container-id-1 div.sk-item {position: relative;z-index: 1;}#sk-container-id-1 div.sk-parallel {display: flex;align-items: stretch;justify-content: center;background-color: white;position: relative;}#sk-container-id-1 div.sk-item::before, #sk-container-id-1 div.sk-parallel-item::before {content: \"\";position: absolute;border-left: 1px solid gray;box-sizing: border-box;top: 0;bottom: 0;left: 50%;z-index: -1;}#sk-container-id-1 div.sk-parallel-item {display: flex;flex-direction: column;z-index: 1;position: relative;background-color: white;}#sk-container-id-1 div.sk-parallel-item:first-child::after {align-self: flex-end;width: 50%;}#sk-container-id-1 div.sk-parallel-item:last-child::after {align-self: flex-start;width: 50%;}#sk-container-id-1 div.sk-parallel-item:only-child::after {width: 0;}#sk-container-id-1 div.sk-dashed-wrapped {border: 1px dashed gray;margin: 0 0.4em 0.5em 0.4em;box-sizing: border-box;padding-bottom: 0.4em;background-color: white;}#sk-container-id-1 div.sk-label label {font-family: monospace;font-weight: bold;display: inline-block;line-height: 1.2em;}#sk-container-id-1 div.sk-label-container {text-align: center;}#sk-container-id-1 div.sk-container {/* jupyter's `normalize.less` sets `[hidden] { display: none; }` but bootstrap.min.css set `[hidden] { display: none !important; }` so we also need the `!important` here to be able to override the default hidden behavior on the sphinx rendered scikit-learn.org. See: https://github.com/scikit-learn/scikit-learn/issues/21755 */display: inline-block !important;position: relative;}#sk-container-id-1 div.sk-text-repr-fallback {display: none;}</style><div id=\"sk-container-id-1\" class=\"sk-top-container\"><div class=\"sk-text-repr-fallback\"><pre>SVC(C=1, kernel=&#x27;linear&#x27;, random_state=1234)</pre><b>In a Jupyter environment, please rerun this cell to show the HTML representation or trust the notebook. <br />On GitHub, the HTML representation is unable to render, please try loading this page with nbviewer.org.</b></div><div class=\"sk-container\" hidden><div class=\"sk-item\"><div class=\"sk-estimator sk-toggleable\"><input class=\"sk-toggleable__control sk-hidden--visually\" id=\"sk-estimator-id-1\" type=\"checkbox\" checked><label for=\"sk-estimator-id-1\" class=\"sk-toggleable__label sk-toggleable__label-arrow\">SVC</label><div class=\"sk-toggleable__content\"><pre>SVC(C=1, kernel=&#x27;linear&#x27;, random_state=1234)</pre></div></div></div></div></div>"
      ],
      "text/plain": [
       "SVC(C=1, kernel='linear', random_state=1234)"
      ]
     },
     "execution_count": 15,
     "metadata": {},
     "output_type": "execute_result"
    }
   ],
   "source": [
    "# Creación del modelo SVM lineal\n",
    "modeloSVM = SVC(C = 1, kernel = 'linear', random_state=1234)\n",
    "modeloSVM.fit(X_train, y_train)"
   ]
  },
  {
   "cell_type": "code",
   "execution_count": 16,
   "id": "56cc0623",
   "metadata": {},
   "outputs": [
    {
     "data": {
      "text/plain": [
       "array([1, 1, 0, 0, 1, 0, 0, 1, 1, 0, 1, 1, 0, 1, 0, 1, 1, 1, 1, 0, 1, 0,\n",
       "       0, 1, 0, 0, 1, 1, 0, 1, 0, 1, 1, 0, 1, 1, 1, 0, 0])"
      ]
     },
     "execution_count": 16,
     "metadata": {},
     "output_type": "execute_result"
    }
   ],
   "source": [
    "# Predicciones test\n",
    "predictSVM = modeloSVM.predict(X_test)\n",
    "predictSVM"
   ]
  },
  {
   "cell_type": "markdown",
   "id": "434ff5ad",
   "metadata": {},
   "source": [
    "## **3.2. Escriba el código que permita hallar la exactitud del modelo SVM anteriormente entrenado:**"
   ]
  },
  {
   "cell_type": "code",
   "execution_count": 17,
   "id": "2be5f603",
   "metadata": {},
   "outputs": [
    {
     "name": "stdout",
     "output_type": "stream",
     "text": [
      "Exactitud del modelo SVM:  0.8974358974358975\n"
     ]
    }
   ],
   "source": [
    "exactitud_SVM = accuracy_score(y_test, predictSVM)\n",
    "print(\"Exactitud del modelo SVM: \", exactitud_SVM)"
   ]
  },
  {
   "cell_type": "code",
   "execution_count": null,
   "id": "5e1f6fd2",
   "metadata": {},
   "outputs": [],
   "source": []
  },
  {
   "cell_type": "markdown",
   "id": "c1679df8",
   "metadata": {},
   "source": [
    "## **3.2. Escriba el código que permita encontrar los mejores parámetros para el modelo  SVM, con un param_grid = {'C': np.linspace(0.1, 100, 200), 'kernel': ('linear', 'rbf')**"
   ]
  },
  {
   "cell_type": "markdown",
   "id": "569d32b9",
   "metadata": {},
   "source": [
    "#### Tunear hiperparámetros"
   ]
  },
  {
   "cell_type": "code",
   "execution_count": 18,
   "id": "1c360147",
   "metadata": {},
   "outputs": [
    {
     "data": {
      "text/html": [
       "<style>#sk-container-id-2 {color: black;}#sk-container-id-2 pre{padding: 0;}#sk-container-id-2 div.sk-toggleable {background-color: white;}#sk-container-id-2 label.sk-toggleable__label {cursor: pointer;display: block;width: 100%;margin-bottom: 0;padding: 0.3em;box-sizing: border-box;text-align: center;}#sk-container-id-2 label.sk-toggleable__label-arrow:before {content: \"▸\";float: left;margin-right: 0.25em;color: #696969;}#sk-container-id-2 label.sk-toggleable__label-arrow:hover:before {color: black;}#sk-container-id-2 div.sk-estimator:hover label.sk-toggleable__label-arrow:before {color: black;}#sk-container-id-2 div.sk-toggleable__content {max-height: 0;max-width: 0;overflow: hidden;text-align: left;background-color: #f0f8ff;}#sk-container-id-2 div.sk-toggleable__content pre {margin: 0.2em;color: black;border-radius: 0.25em;background-color: #f0f8ff;}#sk-container-id-2 input.sk-toggleable__control:checked~div.sk-toggleable__content {max-height: 200px;max-width: 100%;overflow: auto;}#sk-container-id-2 input.sk-toggleable__control:checked~label.sk-toggleable__label-arrow:before {content: \"▾\";}#sk-container-id-2 div.sk-estimator input.sk-toggleable__control:checked~label.sk-toggleable__label {background-color: #d4ebff;}#sk-container-id-2 div.sk-label input.sk-toggleable__control:checked~label.sk-toggleable__label {background-color: #d4ebff;}#sk-container-id-2 input.sk-hidden--visually {border: 0;clip: rect(1px 1px 1px 1px);clip: rect(1px, 1px, 1px, 1px);height: 1px;margin: -1px;overflow: hidden;padding: 0;position: absolute;width: 1px;}#sk-container-id-2 div.sk-estimator {font-family: monospace;background-color: #f0f8ff;border: 1px dotted black;border-radius: 0.25em;box-sizing: border-box;margin-bottom: 0.5em;}#sk-container-id-2 div.sk-estimator:hover {background-color: #d4ebff;}#sk-container-id-2 div.sk-parallel-item::after {content: \"\";width: 100%;border-bottom: 1px solid gray;flex-grow: 1;}#sk-container-id-2 div.sk-label:hover label.sk-toggleable__label {background-color: #d4ebff;}#sk-container-id-2 div.sk-serial::before {content: \"\";position: absolute;border-left: 1px solid gray;box-sizing: border-box;top: 0;bottom: 0;left: 50%;z-index: 0;}#sk-container-id-2 div.sk-serial {display: flex;flex-direction: column;align-items: center;background-color: white;padding-right: 0.2em;padding-left: 0.2em;position: relative;}#sk-container-id-2 div.sk-item {position: relative;z-index: 1;}#sk-container-id-2 div.sk-parallel {display: flex;align-items: stretch;justify-content: center;background-color: white;position: relative;}#sk-container-id-2 div.sk-item::before, #sk-container-id-2 div.sk-parallel-item::before {content: \"\";position: absolute;border-left: 1px solid gray;box-sizing: border-box;top: 0;bottom: 0;left: 50%;z-index: -1;}#sk-container-id-2 div.sk-parallel-item {display: flex;flex-direction: column;z-index: 1;position: relative;background-color: white;}#sk-container-id-2 div.sk-parallel-item:first-child::after {align-self: flex-end;width: 50%;}#sk-container-id-2 div.sk-parallel-item:last-child::after {align-self: flex-start;width: 50%;}#sk-container-id-2 div.sk-parallel-item:only-child::after {width: 0;}#sk-container-id-2 div.sk-dashed-wrapped {border: 1px dashed gray;margin: 0 0.4em 0.5em 0.4em;box-sizing: border-box;padding-bottom: 0.4em;background-color: white;}#sk-container-id-2 div.sk-label label {font-family: monospace;font-weight: bold;display: inline-block;line-height: 1.2em;}#sk-container-id-2 div.sk-label-container {text-align: center;}#sk-container-id-2 div.sk-container {/* jupyter's `normalize.less` sets `[hidden] { display: none; }` but bootstrap.min.css set `[hidden] { display: none !important; }` so we also need the `!important` here to be able to override the default hidden behavior on the sphinx rendered scikit-learn.org. See: https://github.com/scikit-learn/scikit-learn/issues/21755 */display: inline-block !important;position: relative;}#sk-container-id-2 div.sk-text-repr-fallback {display: none;}</style><div id=\"sk-container-id-2\" class=\"sk-top-container\"><div class=\"sk-text-repr-fallback\"><pre>GridSearchCV(cv=5, estimator=SVC(), n_jobs=-1,\n",
       "             param_grid={&#x27;C&#x27;: array([  0.1       ,   0.60201005,   1.1040201 ,   1.60603015,\n",
       "         2.1080402 ,   2.61005025,   3.1120603 ,   3.61407035,\n",
       "         4.1160804 ,   4.61809045,   5.1201005 ,   5.62211055,\n",
       "         6.1241206 ,   6.62613065,   7.1281407 ,   7.63015075,\n",
       "         8.1321608 ,   8.63417085,   9.1361809 ,   9.63819095,\n",
       "        10.14020101,  10.64221106,  11.14422111,  11.64623116,\n",
       "        12.14824121,  12.65025126,  13.1522...\n",
       "        86.44572864,  86.94773869,  87.44974874,  87.95175879,\n",
       "        88.45376884,  88.95577889,  89.45778894,  89.95979899,\n",
       "        90.46180905,  90.9638191 ,  91.46582915,  91.9678392 ,\n",
       "        92.46984925,  92.9718593 ,  93.47386935,  93.9758794 ,\n",
       "        94.47788945,  94.9798995 ,  95.48190955,  95.9839196 ,\n",
       "        96.48592965,  96.9879397 ,  97.48994975,  97.9919598 ,\n",
       "        98.49396985,  98.9959799 ,  99.49798995, 100.        ]),\n",
       "                         &#x27;kernel&#x27;: [&#x27;linear&#x27;, &#x27;rbf&#x27;]},\n",
       "             return_train_score=True, scoring=&#x27;accuracy&#x27;)</pre><b>In a Jupyter environment, please rerun this cell to show the HTML representation or trust the notebook. <br />On GitHub, the HTML representation is unable to render, please try loading this page with nbviewer.org.</b></div><div class=\"sk-container\" hidden><div class=\"sk-item sk-dashed-wrapped\"><div class=\"sk-label-container\"><div class=\"sk-label sk-toggleable\"><input class=\"sk-toggleable__control sk-hidden--visually\" id=\"sk-estimator-id-2\" type=\"checkbox\" ><label for=\"sk-estimator-id-2\" class=\"sk-toggleable__label sk-toggleable__label-arrow\">GridSearchCV</label><div class=\"sk-toggleable__content\"><pre>GridSearchCV(cv=5, estimator=SVC(), n_jobs=-1,\n",
       "             param_grid={&#x27;C&#x27;: array([  0.1       ,   0.60201005,   1.1040201 ,   1.60603015,\n",
       "         2.1080402 ,   2.61005025,   3.1120603 ,   3.61407035,\n",
       "         4.1160804 ,   4.61809045,   5.1201005 ,   5.62211055,\n",
       "         6.1241206 ,   6.62613065,   7.1281407 ,   7.63015075,\n",
       "         8.1321608 ,   8.63417085,   9.1361809 ,   9.63819095,\n",
       "        10.14020101,  10.64221106,  11.14422111,  11.64623116,\n",
       "        12.14824121,  12.65025126,  13.1522...\n",
       "        86.44572864,  86.94773869,  87.44974874,  87.95175879,\n",
       "        88.45376884,  88.95577889,  89.45778894,  89.95979899,\n",
       "        90.46180905,  90.9638191 ,  91.46582915,  91.9678392 ,\n",
       "        92.46984925,  92.9718593 ,  93.47386935,  93.9758794 ,\n",
       "        94.47788945,  94.9798995 ,  95.48190955,  95.9839196 ,\n",
       "        96.48592965,  96.9879397 ,  97.48994975,  97.9919598 ,\n",
       "        98.49396985,  98.9959799 ,  99.49798995, 100.        ]),\n",
       "                         &#x27;kernel&#x27;: [&#x27;linear&#x27;, &#x27;rbf&#x27;]},\n",
       "             return_train_score=True, scoring=&#x27;accuracy&#x27;)</pre></div></div></div><div class=\"sk-parallel\"><div class=\"sk-parallel-item\"><div class=\"sk-item\"><div class=\"sk-label-container\"><div class=\"sk-label sk-toggleable\"><input class=\"sk-toggleable__control sk-hidden--visually\" id=\"sk-estimator-id-3\" type=\"checkbox\" ><label for=\"sk-estimator-id-3\" class=\"sk-toggleable__label sk-toggleable__label-arrow\">estimator: SVC</label><div class=\"sk-toggleable__content\"><pre>SVC()</pre></div></div></div><div class=\"sk-serial\"><div class=\"sk-item\"><div class=\"sk-estimator sk-toggleable\"><input class=\"sk-toggleable__control sk-hidden--visually\" id=\"sk-estimator-id-4\" type=\"checkbox\" ><label for=\"sk-estimator-id-4\" class=\"sk-toggleable__label sk-toggleable__label-arrow\">SVC</label><div class=\"sk-toggleable__content\"><pre>SVC()</pre></div></div></div></div></div></div></div></div></div></div>"
      ],
      "text/plain": [
       "GridSearchCV(cv=5, estimator=SVC(), n_jobs=-1,\n",
       "             param_grid={'C': array([  0.1       ,   0.60201005,   1.1040201 ,   1.60603015,\n",
       "         2.1080402 ,   2.61005025,   3.1120603 ,   3.61407035,\n",
       "         4.1160804 ,   4.61809045,   5.1201005 ,   5.62211055,\n",
       "         6.1241206 ,   6.62613065,   7.1281407 ,   7.63015075,\n",
       "         8.1321608 ,   8.63417085,   9.1361809 ,   9.63819095,\n",
       "        10.14020101,  10.64221106,  11.14422111,  11.64623116,\n",
       "        12.14824121,  12.65025126,  13.1522...\n",
       "        86.44572864,  86.94773869,  87.44974874,  87.95175879,\n",
       "        88.45376884,  88.95577889,  89.45778894,  89.95979899,\n",
       "        90.46180905,  90.9638191 ,  91.46582915,  91.9678392 ,\n",
       "        92.46984925,  92.9718593 ,  93.47386935,  93.9758794 ,\n",
       "        94.47788945,  94.9798995 ,  95.48190955,  95.9839196 ,\n",
       "        96.48592965,  96.9879397 ,  97.48994975,  97.9919598 ,\n",
       "        98.49396985,  98.9959799 ,  99.49798995, 100.        ]),\n",
       "                         'kernel': ['linear', 'rbf']},\n",
       "             return_train_score=True, scoring='accuracy')"
      ]
     },
     "execution_count": 18,
     "metadata": {},
     "output_type": "execute_result"
    }
   ],
   "source": [
    "# param_grid= 'C': np.linspace(0.1, 100, 200), 'kernel': ('linear', 'rbf')\n",
    "param_grid = {'C': np.linspace(0.1, 100, 200), 'kernel': ['linear', 'rbf']}\n",
    "grid = GridSearchCV(\n",
    "        estimator  = SVC(),\n",
    "        param_grid = param_grid,\n",
    "        scoring    = 'accuracy',\n",
    "        n_jobs     = -1,\n",
    "        cv         = 5, \n",
    "        verbose    = 0,\n",
    "        return_train_score = True\n",
    ")\n",
    "\n",
    "grid"
   ]
  },
  {
   "cell_type": "markdown",
   "id": "a807c32b",
   "metadata": {},
   "source": [
    "## **3.3. Escriba el código que permita conocer los mejores parámetros encontrados en el ítem anterior**"
   ]
  },
  {
   "cell_type": "code",
   "execution_count": 19,
   "id": "d2b5fea0",
   "metadata": {},
   "outputs": [
    {
     "name": "stdout",
     "output_type": "stream",
     "text": [
      "Los mejores parámetros encontrados son: {'C': 1.1040201005025128, 'kernel': 'rbf'}\n"
     ]
    }
   ],
   "source": [
    "# Ajustar el GridSearchCV\n",
    "grid.fit(X_train, y_train)\n",
    "\n",
    "# Obtener los mejores parámetros\n",
    "mejores_parametros = grid.best_params_\n",
    "print(\"Los mejores parámetros encontrados son:\", mejores_parametros)\n"
   ]
  },
  {
   "cell_type": "markdown",
   "id": "da668113",
   "metadata": {},
   "source": [
    "## **3.4. Escriba el código que permita hallar la exactitud del modelo de SVM aplicando los mejores parámetros**"
   ]
  },
  {
   "cell_type": "code",
   "execution_count": 20,
   "id": "f7810987",
   "metadata": {},
   "outputs": [
    {
     "name": "stdout",
     "output_type": "stream",
     "text": [
      "Exactitud del mejor modelo: 0.9487179487179487\n"
     ]
    }
   ],
   "source": [
    "# Accuracy de test del modelo \n",
    "# ==============================================================================\n",
    "accuracy = grid.score(X_test, y_test)\n",
    "print(\"Exactitud del mejor modelo:\", accuracy)"
   ]
  },
  {
   "cell_type": "markdown",
   "id": "36cd43d0",
   "metadata": {},
   "source": [
    "## **3.5. Escriba el código que permita hallar la las métricas del modelo entrenado en el ítem anterior. Utilice la función classification_report(..***"
   ]
  },
  {
   "cell_type": "code",
   "execution_count": 21,
   "id": "23ea38e0",
   "metadata": {},
   "outputs": [
    {
     "name": "stdout",
     "output_type": "stream",
     "text": [
      "REPORTE:\n",
      "               precision    recall  f1-score   support\n",
      "\n",
      "           0       0.88      0.88      0.88        17\n",
      "           1       0.91      0.91      0.91        22\n",
      "\n",
      "    accuracy                           0.90        39\n",
      "   macro avg       0.90      0.90      0.90        39\n",
      "weighted avg       0.90      0.90      0.90        39\n",
      "\n"
     ]
    }
   ],
   "source": [
    "reporte_clasificacion = classification_report(y_test, predictSVM)\n",
    "print(\"REPORTE:\\n\", reporte_clasificacion)"
   ]
  },
  {
   "cell_type": "markdown",
   "id": "66fe9fa2",
   "metadata": {},
   "source": [
    "## 4. REDES NEURONALES\n",
    "## **4.1. Escriba el código que permita entrenar un perceptrón multicapa con 3 capas ocultas con 200, 100 y 50 neuronas respectivamente en cada capa. Función de activación 'Relu' y random_state=1**"
   ]
  },
  {
   "cell_type": "code",
   "execution_count": 22,
   "id": "16601962",
   "metadata": {},
   "outputs": [
    {
     "data": {
      "text/html": [
       "<style>#sk-container-id-3 {color: black;}#sk-container-id-3 pre{padding: 0;}#sk-container-id-3 div.sk-toggleable {background-color: white;}#sk-container-id-3 label.sk-toggleable__label {cursor: pointer;display: block;width: 100%;margin-bottom: 0;padding: 0.3em;box-sizing: border-box;text-align: center;}#sk-container-id-3 label.sk-toggleable__label-arrow:before {content: \"▸\";float: left;margin-right: 0.25em;color: #696969;}#sk-container-id-3 label.sk-toggleable__label-arrow:hover:before {color: black;}#sk-container-id-3 div.sk-estimator:hover label.sk-toggleable__label-arrow:before {color: black;}#sk-container-id-3 div.sk-toggleable__content {max-height: 0;max-width: 0;overflow: hidden;text-align: left;background-color: #f0f8ff;}#sk-container-id-3 div.sk-toggleable__content pre {margin: 0.2em;color: black;border-radius: 0.25em;background-color: #f0f8ff;}#sk-container-id-3 input.sk-toggleable__control:checked~div.sk-toggleable__content {max-height: 200px;max-width: 100%;overflow: auto;}#sk-container-id-3 input.sk-toggleable__control:checked~label.sk-toggleable__label-arrow:before {content: \"▾\";}#sk-container-id-3 div.sk-estimator input.sk-toggleable__control:checked~label.sk-toggleable__label {background-color: #d4ebff;}#sk-container-id-3 div.sk-label input.sk-toggleable__control:checked~label.sk-toggleable__label {background-color: #d4ebff;}#sk-container-id-3 input.sk-hidden--visually {border: 0;clip: rect(1px 1px 1px 1px);clip: rect(1px, 1px, 1px, 1px);height: 1px;margin: -1px;overflow: hidden;padding: 0;position: absolute;width: 1px;}#sk-container-id-3 div.sk-estimator {font-family: monospace;background-color: #f0f8ff;border: 1px dotted black;border-radius: 0.25em;box-sizing: border-box;margin-bottom: 0.5em;}#sk-container-id-3 div.sk-estimator:hover {background-color: #d4ebff;}#sk-container-id-3 div.sk-parallel-item::after {content: \"\";width: 100%;border-bottom: 1px solid gray;flex-grow: 1;}#sk-container-id-3 div.sk-label:hover label.sk-toggleable__label {background-color: #d4ebff;}#sk-container-id-3 div.sk-serial::before {content: \"\";position: absolute;border-left: 1px solid gray;box-sizing: border-box;top: 0;bottom: 0;left: 50%;z-index: 0;}#sk-container-id-3 div.sk-serial {display: flex;flex-direction: column;align-items: center;background-color: white;padding-right: 0.2em;padding-left: 0.2em;position: relative;}#sk-container-id-3 div.sk-item {position: relative;z-index: 1;}#sk-container-id-3 div.sk-parallel {display: flex;align-items: stretch;justify-content: center;background-color: white;position: relative;}#sk-container-id-3 div.sk-item::before, #sk-container-id-3 div.sk-parallel-item::before {content: \"\";position: absolute;border-left: 1px solid gray;box-sizing: border-box;top: 0;bottom: 0;left: 50%;z-index: -1;}#sk-container-id-3 div.sk-parallel-item {display: flex;flex-direction: column;z-index: 1;position: relative;background-color: white;}#sk-container-id-3 div.sk-parallel-item:first-child::after {align-self: flex-end;width: 50%;}#sk-container-id-3 div.sk-parallel-item:last-child::after {align-self: flex-start;width: 50%;}#sk-container-id-3 div.sk-parallel-item:only-child::after {width: 0;}#sk-container-id-3 div.sk-dashed-wrapped {border: 1px dashed gray;margin: 0 0.4em 0.5em 0.4em;box-sizing: border-box;padding-bottom: 0.4em;background-color: white;}#sk-container-id-3 div.sk-label label {font-family: monospace;font-weight: bold;display: inline-block;line-height: 1.2em;}#sk-container-id-3 div.sk-label-container {text-align: center;}#sk-container-id-3 div.sk-container {/* jupyter's `normalize.less` sets `[hidden] { display: none; }` but bootstrap.min.css set `[hidden] { display: none !important; }` so we also need the `!important` here to be able to override the default hidden behavior on the sphinx rendered scikit-learn.org. See: https://github.com/scikit-learn/scikit-learn/issues/21755 */display: inline-block !important;position: relative;}#sk-container-id-3 div.sk-text-repr-fallback {display: none;}</style><div id=\"sk-container-id-3\" class=\"sk-top-container\"><div class=\"sk-text-repr-fallback\"><pre>MLPClassifier(hidden_layer_sizes=(200, 100, 50), random_state=1)</pre><b>In a Jupyter environment, please rerun this cell to show the HTML representation or trust the notebook. <br />On GitHub, the HTML representation is unable to render, please try loading this page with nbviewer.org.</b></div><div class=\"sk-container\" hidden><div class=\"sk-item\"><div class=\"sk-estimator sk-toggleable\"><input class=\"sk-toggleable__control sk-hidden--visually\" id=\"sk-estimator-id-5\" type=\"checkbox\" checked><label for=\"sk-estimator-id-5\" class=\"sk-toggleable__label sk-toggleable__label-arrow\">MLPClassifier</label><div class=\"sk-toggleable__content\"><pre>MLPClassifier(hidden_layer_sizes=(200, 100, 50), random_state=1)</pre></div></div></div></div></div>"
      ],
      "text/plain": [
       "MLPClassifier(hidden_layer_sizes=(200, 100, 50), random_state=1)"
      ]
     },
     "execution_count": 22,
     "metadata": {},
     "output_type": "execute_result"
    }
   ],
   "source": [
    "classifier = MLPClassifier(hidden_layer_sizes=(200, 100, 50),\n",
    "                                     activation='relu',\n",
    "                                     random_state=1)\n",
    "\n",
    "# Entrenar el modelo\n",
    "classifier.fit(X_train, y_train)\n",
    "classifier"
   ]
  },
  {
   "cell_type": "code",
   "execution_count": null,
   "id": "3cfc5f7f",
   "metadata": {},
   "outputs": [],
   "source": []
  },
  {
   "cell_type": "markdown",
   "id": "d1add51d",
   "metadata": {},
   "source": [
    "## **4.2. Escriba el código que permita hallar la exactitud del modelo de redes neuronales anteriormente entrenado:**"
   ]
  },
  {
   "cell_type": "code",
   "execution_count": 23,
   "id": "6ba81c43",
   "metadata": {},
   "outputs": [
    {
     "name": "stdout",
     "output_type": "stream",
     "text": [
      "Exactitud del modelo de redes neuronales: 0.9230769230769231\n"
     ]
    }
   ],
   "source": [
    "# Calcular la exactitud del modelo de redes neuronales\n",
    "exactitud_perceptron = classifier.score(X_test, y_test)\n",
    "print(\"Exactitud del modelo de redes neuronales:\", exactitud_perceptron)\n"
   ]
  },
  {
   "cell_type": "markdown",
   "id": "096f3357",
   "metadata": {},
   "source": [
    "## **4.3. Escriba el código que permita hallar la las métricas del modelo entrenado en el ítem anterior. Utilice la función classification_report(..***"
   ]
  },
  {
   "cell_type": "code",
   "execution_count": 24,
   "id": "5f74d4d1",
   "metadata": {},
   "outputs": [
    {
     "name": "stdout",
     "output_type": "stream",
     "text": [
      "Classification Report:\n",
      "               precision    recall  f1-score   support\n",
      "\n",
      "           0       0.89      0.94      0.91        17\n",
      "           1       0.95      0.91      0.93        22\n",
      "\n",
      "    accuracy                           0.92        39\n",
      "   macro avg       0.92      0.93      0.92        39\n",
      "weighted avg       0.92      0.92      0.92        39\n",
      "\n"
     ]
    }
   ],
   "source": [
    "# Prediccion\n",
    "y_pred = classifier.predict(X_test)\n",
    "\n",
    "# Calcular y mostrar el classification report\n",
    "reporte_clasificacion = classification_report(y_test, y_pred)\n",
    "print(\"Classification Report:\\n\", reporte_clasificacion)"
   ]
  },
  {
   "cell_type": "code",
   "execution_count": 25,
   "id": "7311948b",
   "metadata": {},
   "outputs": [],
   "source": [
    "# plt.scatter(X_test, y_train, color=\"green\")   \n",
    "# plt.plot(X_train, x_pred, color=\"red\")    \n",
    "plt.show()   "
   ]
  }
 ],
 "metadata": {
  "kernelspec": {
   "display_name": "Python 3",
   "language": "python",
   "name": "python3"
  },
  "language_info": {
   "codemirror_mode": {
    "name": "ipython",
    "version": 3
   },
   "file_extension": ".py",
   "mimetype": "text/x-python",
   "name": "python",
   "nbconvert_exporter": "python",
   "pygments_lexer": "ipython3",
   "version": "3.11.4"
  }
 },
 "nbformat": 4,
 "nbformat_minor": 5
}

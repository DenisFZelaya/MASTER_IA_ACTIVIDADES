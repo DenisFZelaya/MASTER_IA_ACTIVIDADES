{
 "cells": [
  {
   "cell_type": "code",
   "execution_count": 6,
   "metadata": {},
   "outputs": [
    {
     "name": "stdout",
     "output_type": "stream",
     "text": [
      "Defaulting to user installation because normal site-packages is not writeable\n",
      "Requirement already satisfied: pytesseract in /Users/davidcanaca/Library/Python/3.9/lib/python/site-packages (0.3.10)\n",
      "Requirement already satisfied: pillow in /Users/davidcanaca/Library/Python/3.9/lib/python/site-packages (10.2.0)\n",
      "Requirement already satisfied: packaging>=21.3 in /Users/davidcanaca/Library/Python/3.9/lib/python/site-packages (from pytesseract) (23.2)\n",
      "\u001b[33mWARNING: You are using pip version 21.2.4; however, version 23.3.2 is available.\n",
      "You should consider upgrading via the '/Library/Developer/CommandLineTools/usr/bin/python3 -m pip install --upgrade pip' command.\u001b[0m\n",
      "Note: you may need to restart the kernel to use updated packages.\n"
     ]
    }
   ],
   "source": []
  },
  {
   "cell_type": "markdown",
   "metadata": {},
   "source": []
  },
  {
   "cell_type": "code",
   "execution_count": 1,
   "metadata": {},
   "outputs": [
    {
     "name": "stdout",
     "output_type": "stream",
     "text": [
      "NADA\n",
      "NADA\n"
     ]
    }
   ],
   "source": [
    "\n",
    "import cv2 as cv\n",
    "import numpy as np\n",
    "import pytesseract\n",
    "import matplotlib.pyplot as plt\n",
    "\n",
    "# Paso 1. Leer imagen a color y transformar a escala de grises\n",
    "img_color = cv.imread(\"Cars34.png\")\n",
    "img_gris = cv.imread(\"Cars34.png\", cv.IMREAD_GRAYSCALE)\n",
    "\n",
    "# cv.imshow(\"PASO 1 - Original\", img_gris)\n",
    "\n",
    "# Paso 2. Suavisar la imagen (Filtro gausiano con kernel de 11x11)\n",
    "blur = cv.GaussianBlur(img_gris,(11,11), 0)\n",
    "# blur = img_gris\n",
    "# cv.imshow(\"PASO 2 - Gaussiano\", blur)\n",
    "\n",
    "# Paso 3. Mejora de contraste (Ajuste local de contraste adaptativo)\n",
    "clahe = cv.createCLAHE(clipLimit=1.5, tileGridSize=(8,8))\n",
    "equ01 = clahe.apply(blur)\n",
    "# cv.imshow(\"PASO 3 - Ajuste de contraste\", equ01)\n",
    "\n",
    "# Paso 4. Binarizar la imagen (Otsu)\n",
    "otsu_threshold, otsu01 = cv.threshold(equ01, 0, 255, cv.THRESH_OTSU)\n",
    "# cv.imshow(\"PASO 4 - Imagen Binarizada\", otsu01)\n",
    "\n",
    "# Paso 5. Obtener border (CANNY)\n",
    "edges = cv.Canny(otsu01, 150, 350)\n",
    "# cv.imshow(\"PASO 5 - Canny\", edges)\n",
    "\n",
    "# Paso 6. Guardar bordes\n",
    "contours, hierachy = cv.findContours(edges, cv.RETR_EXTERNAL, cv.CHAIN_APPROX_SIMPLE)\n",
    "long_contours = [cnt for cnt in contours if(cv.arcLength(cnt, True) > 200\n",
    "                                            and (cv.arcLength(cnt, True) < 700))]\n",
    "\n",
    "# Paso 7. Dibujar placas candidatas\n",
    "alto, ancho, canales = img_color.shape\n",
    "\n",
    "for i, lonc in enumerate(long_contours):\n",
    "    r = [x for [[x, y]] in lonc]\n",
    "    s = [y for [[x, y]] in lonc]\n",
    "    prop = (max(s) - min(s)) - (max(r) - min(r))   \n",
    "    \n",
    "    if ((max(s)> round(alto/2)) and (prop<0)):\n",
    "\n",
    "        #\n",
    "        cv.rectangle(img_color,(min(r),min(s)),(max(r),max(s)),(0,255,0),3)  \n",
    "\n",
    "        # Crear recorte\n",
    "        recorte = img_color[min(s):max(s), min(r):max(r)]\n",
    "        \n",
    "        gray = cv.cvtColor(recorte, cv.COLOR_BGR2GRAY)\n",
    "        # cv.imshow(f\"Recorte {i + 1}\", gray)\n",
    "\n",
    "        try:\n",
    "            #\n",
    "            # Inicializar el objeto OCR\n",
    "            # ocr = cv.text.OCRTesseract_create()\n",
    "            print(\"NADA\")\n",
    "\n",
    "            # Realizar OCR en la imagen\n",
    "            # result, text = ocr.run(gray, 0, cv.text.OCR_LEVEL_WORD)\n",
    "            # result, text = ocr.run(gray, 0)\n",
    "\n",
    "            # print(\"Texto detectado:\", text)\n",
    "        except Exception as e:\n",
    "            print(\"ERROR:\", e)\n",
    "\n",
    "        # Aplicar OCR utilizando Tesseract\n",
    "        # text = pytesseract.image_to_string(gray_region, lang='eng')\n",
    "\n",
    "        # Imprimir el texto encontrado\n",
    "        # print(\"Texto encontrado:\", text)\n",
    "        \n",
    "# cv.imshow(\"PASO 8 - long_contours\", img_color)\n",
    "plt.imshow(img_color)\n",
    "plt.title(\"PASO 8 - long_contours\")\n",
    "\n",
    "key = cv.waitKey(0) & 0xFF\n",
    "if key == ord('q'):\n",
    "    cv.destroyAllWindows()\n"
   ]
  },
  {
   "cell_type": "code",
   "execution_count": null,
   "metadata": {},
   "outputs": [],
   "source": []
  }
 ],
 "metadata": {
  "kernelspec": {
   "display_name": "Python 3 (ipykernel)",
   "language": "python",
   "name": "python3"
  },
  "language_info": {
   "codemirror_mode": {
    "name": "ipython",
    "version": 3
   },
   "file_extension": ".py",
   "mimetype": "text/x-python",
   "name": "python",
   "nbconvert_exporter": "python",
   "pygments_lexer": "ipython3",
   "version": "3.11.4"
  }
 },
 "nbformat": 4,
 "nbformat_minor": 2
}

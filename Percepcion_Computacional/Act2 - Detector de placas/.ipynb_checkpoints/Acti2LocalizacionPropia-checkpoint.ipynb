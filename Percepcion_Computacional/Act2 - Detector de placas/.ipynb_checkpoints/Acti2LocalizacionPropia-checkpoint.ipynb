{
 "cells": [
  {
   "cell_type": "markdown",
   "metadata": {},
   "source": [
    "## Localizador de placas con tecnicas tradicionales"
   ]
  },
  {
   "cell_type": "markdown",
   "metadata": {},
   "source": [
    "### Paso 1: Leer la imagen"
   ]
  },
  {
   "cell_type": "code",
   "execution_count": 4,
   "metadata": {},
   "outputs": [],
   "source": [
    "import cv2 as cv\n",
    "import numpy as np\n",
    "\n",
    "img_color = cv.imread(\"coche14.jpeg\")\n",
    "img_gris = cv.imread(\"coche14.jpeg\", cv.IMREAD_GRAYSCALE)\n",
    "\n",
    "# cv.imshow(\"IMG COLOR\", img_color)\n",
    "# cv.imshow(\"IMG GRIS\", img_gris)\n",
    "\n",
    "# cv.waitKey()\n",
    "# cv.destroyAllWindows()"
   ]
  },
  {
   "cell_type": "markdown",
   "metadata": {},
   "source": [
    "### Paso 2: Suavisar la imagen (filtro gaussiano con kernel de 11x11)"
   ]
  },
  {
   "cell_type": "code",
   "execution_count": null,
   "metadata": {},
   "outputs": [],
   "source": [
    "# blur = cv.GaussianBlur(img_gris, (11,11), 0)\n",
    "blur = img_gris\n",
    "cv.imshow(\"GaussianBlur\", blur)\n"
   ]
  },
  {
   "cell_type": "markdown",
   "metadata": {},
   "source": [
    "### Paso 3: Mejora de contraste (Ajuste local de contraste adaptativo)"
   ]
  },
  {
   "cell_type": "code",
   "execution_count": null,
   "metadata": {},
   "outputs": [],
   "source": [
    "clahe = cv.createCLAHE(clipLimit=1.5, tileGridSize=(8,8))\n",
    "equ01 = clahe.apply(blur)\n",
    "cv.imshow(\"Gausian paso 2\", blur)\n",
    "cv.imshow(\"Ajuste de contraste\", equ01)\n"
   ]
  },
  {
   "cell_type": "markdown",
   "metadata": {},
   "source": [
    "### Paso 4. Binarizar la imagen (Otsu)"
   ]
  },
  {
   "cell_type": "code",
   "execution_count": null,
   "metadata": {},
   "outputs": [],
   "source": [
    "otsu_threshold, otsu01 = cv.threshold(equ01, 0, 255, cv.THRESH_OTSU)\n",
    "\n",
    "cv.imshow(\"Imagen Binarizada\", otsu01)\n"
   ]
  },
  {
   "cell_type": "markdown",
   "metadata": {},
   "source": [
    "### Paso 5. Obtener bordes (CANNY)"
   ]
  },
  {
   "cell_type": "code",
   "execution_count": null,
   "metadata": {},
   "outputs": [],
   "source": [
    "edges = cv.Canny(otsu01, 150, 350)\n",
    "\n",
    "cv.imshow(\"CANNY\", edges)\n"
   ]
  },
  {
   "cell_type": "markdown",
   "metadata": {},
   "source": [
    "### Paso 6. Guardar Bordes"
   ]
  },
  {
   "cell_type": "code",
   "execution_count": null,
   "metadata": {},
   "outputs": [],
   "source": [
    "contours, hierarchy = cv.findContours(edges, cv.RETR_EXTERNAL, cv.CHAIN_APPROX_SIMPLE)\n",
    "long_contours = [cnt for cnt in contours if(cv.arcLength(cnt, True) > 200\n",
    "                                            and (cv.arcLength(cnt, True) < 700))]\n"
   ]
  },
  {
   "cell_type": "markdown",
   "metadata": {},
   "source": [
    "### Paso 7, Dibujar precandidatas"
   ]
  },
  {
   "cell_type": "code",
   "execution_count": null,
   "metadata": {},
   "outputs": [],
   "source": [
    "alto, ancho, canales = img_color.shape\n",
    "\n",
    "for lonc in (long_contours):\n",
    "    r = [x for [[x, y]] in lonc]\n",
    "    s = [y for [[x, y]] in lonc]\n",
    "    prop = (max(s) - min(s)) - (max(r) - min(r))\n",
    "    \n",
    "    if ((max(s)> round(alto/2)) and (prop<0)):\n",
    "        cv.rectangle(img_color,(min(r),min(s)),(max(r),max(s)),(0,255,0),3)   \n",
    "        \n",
    "cv.imshow(\"Imagen resultante\", img_color)"
   ]
  }
 ],
 "metadata": {
  "kernelspec": {
   "display_name": "Python 3 (ipykernel)",
   "language": "python",
   "name": "python3"
  },
  "language_info": {
   "codemirror_mode": {
    "name": "ipython",
    "version": 3
   },
   "file_extension": ".py",
   "mimetype": "text/x-python",
   "name": "python",
   "nbconvert_exporter": "python",
   "pygments_lexer": "ipython3",
   "version": "3.11.4"
  }
 },
 "nbformat": 4,
 "nbformat_minor": 2
}

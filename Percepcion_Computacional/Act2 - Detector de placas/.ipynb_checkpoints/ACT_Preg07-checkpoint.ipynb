{
 "cells": [
  {
   "cell_type": "code",
   "execution_count": null,
   "metadata": {},
   "outputs": [],
   "source": []
  },
  {
   "cell_type": "markdown",
   "metadata": {},
   "source": []
  },
  {
   "cell_type": "code",
   "execution_count": 4,
   "metadata": {},
   "outputs": [
    {
     "ename": "SyntaxError",
     "evalue": "invalid decimal literal (3151275310.py, line 13)",
     "output_type": "error",
     "traceback": [
      "\u001b[0;36m  Cell \u001b[0;32mIn[4], line 13\u001b[0;36m\u001b[0m\n\u001b[0;31m    ano con kernel de 11x11)\u001b[0m\n\u001b[0m                       ^\u001b[0m\n\u001b[0;31mSyntaxError\u001b[0m\u001b[0;31m:\u001b[0m invalid decimal literal\n"
     ]
    }
   ],
   "source": [
    "\n",
    "import cv2 as cv\n",
    "import numpy as np\n",
    "\n",
    "# Paso 1. Leer imagen a color y transformar a escala de grises\n",
    "img_color = cv.imread(\"coche14.jpeg\")\n",
    "img_gris = cv.imread(\"coche14.jpeg\", cv.IMREAD_GRAYSCALE)\n",
    "\n",
    "cv.imshow(\"PASO 1 - Original\", img_gris)\n",
    "\n",
    "# Paso 2. Suavisar la imagen (Filtro gausiano con kernel de 11x11)\n",
    "blur = cv.GaussianBlur(img_gris,(11,11), 0)\n",
    "# blur = img_gris\n",
    "cv.imshow(\"PASO 2 - Gaussiano\", blur)\n",
    "\n",
    "# Paso 3. Mejora de contraste (Ajuste local de contraste adaptativo)\n",
    "clahe = cv.createCLAHE(clipLimit=1.5, tileGridSize=(8,8))\n",
    "equ01 = clahe.apply(blur)\n",
    "cv.imshow(\"PASO 3 - Ajuste de contraste\", equ01)\n",
    "\n",
    "# Paso 4. Binarizar la imagen (Otsu)\n",
    "otsu_threshold, otsu01 = cv.threshold(equ01, 0, 255, cv.THRESH_OTSU)\n",
    "cv.imshow(\"PASO 4 - Imagen Binarizada\", otsu01)\n",
    "\n",
    "# Paso 5. Obtener border (CANNY)\n",
    "edges = cv.Canny(otsu01, 150, 350)\n",
    "cv.imshow(\"PASO 5 - Canny\", edges)\n",
    "\n",
    "# Paso 6. Guardar bordes\n",
    "contours, hierachy = cv.findContours(edges, cv.RETR_EXTERNAL, cv.CHAIN_APPROX_SIMPLE)\n",
    "long_contours = [cnt for cnt in contours if(cv.arcLength(cnt, True) > 200\n",
    "                                            and (cv.arcLength(cnt, True) < 700))]\n",
    "\n",
    "# Paso 7. Dibujar placas candidatas\n",
    "alto, ancho, canales = img_color.shape\n",
    "\n",
    "for lonc in (long_contours):\n",
    "    r = [x for [[x, y]] in lonc]\n",
    "    s = [y for [[x, y]] in lonc]\n",
    "    prop = (max(s) - min(s)) - (max(r) - min(r))   \n",
    "    \n",
    "    if ((max(s)> round(alto/2)) and (prop<0)):\n",
    "        cv.rectangle(img_color,(min(r),min(s)),(max(r),max(s)),(0,255,0),3)   \n",
    "        \n",
    "cv.imshow(\"PASO 8 - long_contours\", img_color)\n",
    "\n",
    "cv.waitKey(0)\n",
    "cv.destroyAllWindows()\n"
   ]
  },
  {
   "cell_type": "code",
   "execution_count": null,
   "metadata": {},
   "outputs": [],
   "source": []
  }
 ],
 "metadata": {
  "kernelspec": {
   "display_name": "Python 3 (ipykernel)",
   "language": "python",
   "name": "python3"
  },
  "language_info": {
   "codemirror_mode": {
    "name": "ipython",
    "version": 3
   },
   "file_extension": ".py",
   "mimetype": "text/x-python",
   "name": "python",
   "nbconvert_exporter": "python",
   "pygments_lexer": "ipython3",
   "version": "3.11.4"
  }
 },
 "nbformat": 4,
 "nbformat_minor": 2
}
